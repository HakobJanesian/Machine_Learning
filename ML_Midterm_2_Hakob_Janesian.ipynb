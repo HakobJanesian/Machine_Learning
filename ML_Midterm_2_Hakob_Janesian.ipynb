{
 "cells": [
  {
   "cell_type": "markdown",
   "id": "d730ac4a",
   "metadata": {},
   "source": [
    "My ID - A09190061, last two digits - 61"
   ]
  },
  {
   "cell_type": "code",
   "execution_count": 64,
   "id": "837dd4ef",
   "metadata": {},
   "outputs": [],
   "source": [
    "# Standard libraries\n",
    "import pandas as pd\n",
    "import numpy as np\n",
    "import seaborn as sns\n",
    "import matplotlib.pyplot as plt\n",
    "\n",
    "# Models\n",
    "from sklearn.discriminant_analysis import  QuadraticDiscriminantAnalysis\n",
    "from sklearn.ensemble import AdaBoostClassifier, RandomForestRegressor, GradientBoostingRegressor\n",
    "from sklearn.svm import SVC\n",
    "from sklearn.decomposition import PCA\n",
    "\n",
    "# Rest of required libraries\n",
    "\n",
    "from sklearn.metrics import classification_report, plot_roc_curve, confusion_matrix, auc \n",
    "from sklearn.impute import SimpleImputer\n",
    "from sklearn.ensemble import GradientBoostingClassifier\n",
    "from sklearn.compose import ColumnTransformer\n",
    "from sklearn.ensemble import RandomForestRegressor\n",
    "from sklearn.pipeline import Pipeline, make_pipeline\n",
    "from sklearn.preprocessing import StandardScaler, OneHotEncoder, PolynomialFeatures\n",
    "from sklearn.model_selection import train_test_split, GridSearchCV\n",
    "from sklearn.metrics import accuracy_score, roc_auc_score, roc_curve, precision_recall_curve, mean_squared_error, r2_score\n",
    "from sklearn.experimental import enable_halving_search_cv \n",
    "from sklearn.model_selection import GridSearchCV, HalvingGridSearchCV, train_test_split\n",
    "from sklearn.metrics import mean_absolute_error\n",
    "from sklearn.svm import SVC, SVR\n",
    "from sklearn.datasets import load_digits, make_friedman1\n",
    "from sklearn.preprocessing import MinMaxScaler\n",
    "from sklearn.metrics import classification_report, auc, classification_report, precision_recall_curve"
   ]
  },
  {
   "cell_type": "markdown",
   "id": "272e9b3c",
   "metadata": {},
   "source": [
    "# Problem1: Classification"
   ]
  },
  {
   "cell_type": "code",
   "execution_count": 18,
   "id": "7df40dc8",
   "metadata": {},
   "outputs": [],
   "source": [
    "# Loading the dataset\n",
    "df1 = load_digits()\n",
    "X = pd.DataFrame(df1[\"data\"])\n",
    "y = df1[\"target\"]\n",
    "\n",
    "# Splitting the data\n",
    "X_train, X_test, y_train, y_test = train_test_split(X, y, test_size=0.2, random_state=61)"
   ]
  },
  {
   "cell_type": "code",
   "execution_count": 19,
   "id": "eab05615",
   "metadata": {},
   "outputs": [],
   "source": [
    "# Creating the pipeline\n",
    "scaler = MinMaxScaler()\n",
    "# Pipeline for AdaBoost\n",
    "combined_model_adaboost = make_pipeline(scaler, AdaBoostClassifier())"
   ]
  },
  {
   "cell_type": "markdown",
   "id": "8492ce82",
   "metadata": {},
   "source": [
    "#### The computation power of my laptop is too low, so I used HalvingGridSearchCV instead of regular GridSearchCV."
   ]
  },
  {
   "cell_type": "code",
   "execution_count": 20,
   "id": "d85621a7",
   "metadata": {},
   "outputs": [
    {
     "data": {
      "text/plain": [
       "HalvingGridSearchCV(estimator=Pipeline(steps=[('minmaxscaler', MinMaxScaler()),\n",
       "                                              ('adaboostclassifier',\n",
       "                                               AdaBoostClassifier())]),\n",
       "                    n_jobs=-1,\n",
       "                    param_grid={'adaboostclassifier__learning_rate': array([1.00000000e-05, 1.57904211e-01, 3.15798421e-01, 4.73692632e-01,\n",
       "       6.31586842e-01, 7.89481053e-01, 9.47375263e-01, 1.10526947e+00,\n",
       "       1.26316368e+00, 1.42105789e+00, 1.57895211e+00, 1.73684632e+00,\n",
       "       1.89474053e+00, 2.05263474e+00, 2.21052895e+00, 2.36842316e+00,\n",
       "       2.52631737e+00, 2.68421158e+00, 2.84210579e+00, 3.00000000e+00]),\n",
       "                                'adaboostclassifier__n_estimators': array([ 50, 100, 150, 200, 250, 300, 350])},\n",
       "                    refit=<function _refit_callable at 0x000001CFCFC31040>,\n",
       "                    scoring='f1_macro')"
      ]
     },
     "execution_count": 20,
     "metadata": {},
     "output_type": "execute_result"
    }
   ],
   "source": [
    "# Hyperparameter tuning for Adaboost\n",
    "n_estimators_grid = np.arange(50, 400, 50)\n",
    "learning_rate_grid = np.linspace(0.00001, 3, 20)\n",
    "optimal_model_adaboost = HalvingGridSearchCV(combined_model_adaboost, param_grid={\"adaboostclassifier__n_estimators\": n_estimators_grid, \"adaboostclassifier__learning_rate\": learning_rate_grid}, cv = 5, scoring='f1_macro', n_jobs=-1)\n",
    "optimal_model_adaboost.fit(X_train, y_train)"
   ]
  },
  {
   "cell_type": "code",
   "execution_count": 21,
   "id": "d1c24183",
   "metadata": {},
   "outputs": [
    {
     "name": "stdout",
     "output_type": "stream",
     "text": [
      "Best parameters: {'adaboostclassifier__learning_rate': 2.368423157894737, 'adaboostclassifier__n_estimators': 350}\n",
      "Best F1 score: 0.8783942748458424\n"
     ]
    }
   ],
   "source": [
    "# Obtain the optimal model's best parameters and score\n",
    "best_params = optimal_model_adaboost.best_params_\n",
    "best_score = optimal_model_adaboost.best_score_\n",
    "print(f\"Best parameters: {best_params}\")\n",
    "print(f\"Best F1 score: {best_score}\")"
   ]
  },
  {
   "cell_type": "markdown",
   "id": "d5f3c5b5",
   "metadata": {},
   "source": [
    "#### After the GridSearch we see that the optimal model chose learning rate = 2.368, and nestimators = 350, and the Best F1 score is 0.878(not to depend only on precision or recall)"
   ]
  },
  {
   "cell_type": "code",
   "execution_count": 22,
   "id": "f255ceb3",
   "metadata": {},
   "outputs": [],
   "source": [
    "pred_prob_adaboost = optimal_model_adaboost.best_estimator_.predict_proba(X_test)\n",
    "precision_adaboost, recall_adaboost, thresholds_adaboost = precision_recall_curve(y_true = y_test, probas_pred = pred_prob_adaboost[:,1], pos_label = 1)"
   ]
  },
  {
   "cell_type": "code",
   "execution_count": 23,
   "id": "ba67eace",
   "metadata": {},
   "outputs": [
    {
     "data": {
      "image/png": "[encoded data removed]",
      "text/plain": [
       "<Figure size 1080x720 with 1 Axes>"
      ]
     },
     "metadata": {
      "needs_background": "light"
     },
     "output_type": "display_data"
    }
   ],
   "source": [
    "# Plotting preciison-recall curves\n",
    "\n",
    "x = np.linspace(0,1,100)\n",
    "plt.figure(figsize = (15,10)) \n",
    "plt.plot(recall_adaboost, precision_adaboost, label=\"Adaboost\") \n",
    "plt.plot(x,-x+1,\".\", markersize = 1.6) \n",
    "plt.title(\"Precision-Recall Curve\")\n",
    "plt.xlabel(\"Recall\")\n",
    "plt.ylabel(\"Precision\")\n",
    "plt.legend()\n",
    "plt.show()"
   ]
  },
  {
   "cell_type": "code",
   "execution_count": 24,
   "id": "22ba8b3b",
   "metadata": {},
   "outputs": [
    {
     "name": "stdout",
     "output_type": "stream",
     "text": [
      "AUC of Adaboost: 0.94857267087113\n"
     ]
    }
   ],
   "source": [
    "print(f\"AUC of Adaboost: {auc(recall_adaboost, precision_adaboost)}\")"
   ]
  },
  {
   "cell_type": "code",
   "execution_count": 46,
   "id": "c0555bf4",
   "metadata": {},
   "outputs": [
    {
     "name": "stdout",
     "output_type": "stream",
     "text": [
      "AdaBoost Classifier - Classification Report\n",
      "              precision    recall  f1-score   support\n",
      "\n",
      "           0       1.00      0.95      0.97        38\n",
      "           1       0.97      0.80      0.88        41\n",
      "           2       0.96      0.76      0.85        34\n",
      "           3       0.91      0.69      0.78        29\n",
      "           4       0.92      0.89      0.90        37\n",
      "           5       0.86      0.94      0.90        33\n",
      "           6       0.97      0.97      0.97        36\n",
      "           7       0.92      0.94      0.93        35\n",
      "           8       0.69      0.95      0.80        39\n",
      "           9       0.81      0.92      0.86        38\n",
      "\n",
      "    accuracy                           0.89       360\n",
      "   macro avg       0.90      0.88      0.89       360\n",
      "weighted avg       0.90      0.89      0.89       360\n",
      "\n"
     ]
    }
   ],
   "source": [
    "y_pred = optimal_model_adaboost.predict(X_test)\n",
    "report = classification_report(y_test, y_pred)\n",
    "print(\"AdaBoost Classifier - Classification Report\")\n",
    "print(report)"
   ]
  },
  {
   "cell_type": "markdown",
   "id": "fda6ae8a",
   "metadata": {},
   "source": [
    "#### We see that for test data the classification report shows that the Accuracy is 0.89"
   ]
  },
  {
   "cell_type": "code",
   "execution_count": 25,
   "id": "7abe913c",
   "metadata": {},
   "outputs": [
    {
     "name": "stdout",
     "output_type": "stream",
     "text": [
      "Train score: 0.906666959169564\n",
      "CV score: 0.8783942748458424\n",
      "Test score: 0.8854102171141724\n"
     ]
    }
   ],
   "source": [
    "# Train score\n",
    "train_score = optimal_model_adaboost.score(X_train, y_train)\n",
    "print(f\"Train score: {train_score}\")\n",
    "\n",
    "# CV score (best_score_ attribute already contains this value)\n",
    "cv_score = best_score\n",
    "print(f\"CV score: {cv_score}\")\n",
    "\n",
    "# Test score\n",
    "test_score = optimal_model_adaboost.score(X_test, y_test)\n",
    "print(f\"Test score: {test_score}\")"
   ]
  },
  {
   "cell_type": "markdown",
   "id": "5386c835",
   "metadata": {},
   "source": [
    "#### Discussion1: I initially claim that if my model's train score is greater than 0.85 then I will say there is no problem of overfitting. In this case the train score is equal to 0.9098 which is greater than my threshhold of underfitting then I claim that here this model has no issue with underfitting. Now let's move on and compare Train and CV scores. 0.9066 and 0.878 are not significantly far from each other, because I claim that if their difference less than 0.05 then the difference is not significant. As the Traina and CV scores are close to each other we can claim that there is no issue of overfitting. Now let's compare Test and CV scores.  0.885 and 0.878 are very very close to each other (less than the threshhold 0.05), so we can claim that the CV and Test sets are coming from the same distribution, so we are confident that the we have well tuned values for our hyperparams. Ultimatelly based on the abovementioned facts I claim that this model(Adaboost classifier) is acceptable."
   ]
  },
  {
   "cell_type": "markdown",
   "id": "75f40848",
   "metadata": {},
   "source": [
    "## Now Let's look to Gradient Boosting Classifier"
   ]
  },
  {
   "cell_type": "code",
   "execution_count": 40,
   "id": "a8c8dd46",
   "metadata": {},
   "outputs": [
    {
     "data": {
      "text/plain": [
       "HalvingGridSearchCV(cv=3,\n",
       "                    estimator=Pipeline(steps=[('minmaxscaler', MinMaxScaler()),\n",
       "                                              ('gradientboostingclassifier',\n",
       "                                               GradientBoostingClassifier())]),\n",
       "                    n_jobs=-1,\n",
       "                    param_grid={'gradientboostingclassifier__learning_rate': [0.001,\n",
       "                                                                              0.01,\n",
       "                                                                              0.1,\n",
       "                                                                              1,\n",
       "                                                                              2],\n",
       "                                'gradientboostingclassifier__n_estimators': [50,\n",
       "                                                                             100,\n",
       "                                                                             150,\n",
       "                                                                             200,\n",
       "                                                                             250,\n",
       "                                                                             300,\n",
       "                                                                             350]},\n",
       "                    refit=<function _refit_callable at 0x000001CFCFC31040>)"
      ]
     },
     "execution_count": 40,
     "metadata": {},
     "output_type": "execute_result"
    }
   ],
   "source": [
    "# Create the pipeline for GradientBoostingClassifier\n",
    "combined_model_gradientboosting = make_pipeline(scaler, GradientBoostingClassifier())\n",
    "\n",
    "param_grid = {\n",
    "    'gradientboostingclassifier__n_estimators': [50, 100, 150, 200, 250, 300, 350],\n",
    "    'gradientboostingclassifier__learning_rate': [0.001, 0.01, 0.1, 1, 2]\n",
    "}\n",
    "\n",
    "# Now let's perform the grid search to find the best hyperparameters\n",
    "optimal_model_gradboost = HalvingGridSearchCV(combined_model_gradientboosting, param_grid=param_grid, cv=3, n_jobs=-1)\n",
    "optimal_model_gradboost.fit(X_train, y_train)"
   ]
  },
  {
   "cell_type": "code",
   "execution_count": 41,
   "id": "4670632f",
   "metadata": {},
   "outputs": [
    {
     "name": "stdout",
     "output_type": "stream",
     "text": [
      "Best parameters: {'gradientboostingclassifier__learning_rate': 1, 'gradientboostingclassifier__n_estimators': 200}\n",
      "Best F1 score: 0.9259259259259259\n"
     ]
    }
   ],
   "source": [
    "# Obtain the optimal model's best parameters and score\n",
    "best_params = optimal_model_gradboost.best_params_\n",
    "best_score = optimal_model_gradboost.best_score_\n",
    "print(f\"Best parameters: {best_params}\")\n",
    "print(f\"Best F1 score: {best_score}\")"
   ]
  },
  {
   "cell_type": "markdown",
   "id": "091ed55a",
   "metadata": {},
   "source": [
    "#### We see that the learning rate is equal to 1, nestimators is 200, and f1 score is 0.925"
   ]
  },
  {
   "cell_type": "code",
   "execution_count": 42,
   "id": "42c97c3b",
   "metadata": {},
   "outputs": [],
   "source": [
    "pred_prob_gradboost = optimal_model_gradboost.best_estimator_.predict_proba(X_test)\n",
    "precision_gradboost, recall_gradboost, thresholds_gradboost = precision_recall_curve(y_true = y_test, probas_pred = pred_prob_gradboost[:,1], pos_label = 1)"
   ]
  },
  {
   "cell_type": "code",
   "execution_count": 43,
   "id": "092b23b8",
   "metadata": {},
   "outputs": [
    {
     "data": {
      "image/png": "[encoded data removed]",
      "text/plain": [
       "<Figure size 1080x720 with 1 Axes>"
      ]
     },
     "metadata": {
      "needs_background": "light"
     },
     "output_type": "display_data"
    }
   ],
   "source": [
    "# Plotting preciison-recall curves\n",
    "\n",
    "x = np.linspace(0,1,100)\n",
    "plt.figure(figsize = (15,10)) \n",
    "plt.plot(recall_gradboost, precision_gradboost, label=\"Gradient boosting\") \n",
    "plt.plot(x,-x+1,\".\", markersize = 1.6) \n",
    "plt.title(\"Precision-Recall Curve\")\n",
    "plt.xlabel(\"Recall\")\n",
    "plt.ylabel(\"Precision\")\n",
    "plt.legend()\n",
    "plt.show()"
   ]
  },
  {
   "cell_type": "code",
   "execution_count": 44,
   "id": "9d36e449",
   "metadata": {},
   "outputs": [
    {
     "name": "stdout",
     "output_type": "stream",
     "text": [
      "AUC of Gradient boosting classification: 0.9964052499567548\n"
     ]
    }
   ],
   "source": [
    "print(f\"AUC of Gradient boosting classification: {auc(recall_gradboost, precision_gradboost)}\")"
   ]
  },
  {
   "cell_type": "code",
   "execution_count": 48,
   "id": "ff6b5714",
   "metadata": {},
   "outputs": [
    {
     "name": "stdout",
     "output_type": "stream",
     "text": [
      "AdaBoost Classifier - Classification Report\n",
      "              precision    recall  f1-score   support\n",
      "\n",
      "           0       0.95      0.95      0.95        38\n",
      "           1       1.00      0.98      0.99        41\n",
      "           2       1.00      0.94      0.97        34\n",
      "           3       0.96      0.90      0.93        29\n",
      "           4       0.95      0.95      0.95        37\n",
      "           5       0.97      1.00      0.99        33\n",
      "           6       0.95      0.97      0.96        36\n",
      "           7       0.92      0.97      0.94        35\n",
      "           8       0.93      0.95      0.94        39\n",
      "           9       0.92      0.92      0.92        38\n",
      "\n",
      "    accuracy                           0.95       360\n",
      "   macro avg       0.95      0.95      0.95       360\n",
      "weighted avg       0.95      0.95      0.95       360\n",
      "\n"
     ]
    }
   ],
   "source": [
    "y_pred = optimal_model_gradboost.predict(X_test)\n",
    "report = classification_report(y_test, y_pred)\n",
    "print(\"AdaBoost Classifier - Classification Report\")\n",
    "print(report)"
   ]
  },
  {
   "cell_type": "code",
   "execution_count": null,
   "id": "ad23c96c",
   "metadata": {},
   "outputs": [],
   "source": [
    "#### We see that for test data the classification report shows that the Accuracy is 0.95"
   ]
  },
  {
   "cell_type": "code",
   "execution_count": 45,
   "id": "79b8e542",
   "metadata": {},
   "outputs": [
    {
     "name": "stdout",
     "output_type": "stream",
     "text": [
      "Train score: 0.9986082115518441\n",
      "CV score: 0.9259259259259259\n",
      "Test score: 0.9527777777777777\n"
     ]
    }
   ],
   "source": [
    "# Train score\n",
    "train_score = optimal_model_gradboost.score(X_train, y_train)\n",
    "print(f\"Train score: {train_score}\")\n",
    "\n",
    "# CV score (best_score_ attribute already contains this value)\n",
    "cv_score = best_score\n",
    "print(f\"CV score: {cv_score}\")\n",
    "\n",
    "# Test score\n",
    "test_score = optimal_model_gradboost.score(X_test, y_test)\n",
    "print(f\"Test score: {test_score}\")"
   ]
  },
  {
   "cell_type": "markdown",
   "id": "c2b9d251",
   "metadata": {},
   "source": [
    "#### Discussion2: I initially claim that if my model's train score is greater than 0.85 then I will say there is no problem of overfitting. In this case the train score is equal to 0.9986 which is greater than my threshhold of underfitting then I claim that here this model has no issue with underfitting. Now let's move on and compare Train and CV scores. 0.9986 and 0.9259 are significantly far from each other, because I claim that if their difference less than 0.05 then the difference is significant and there is a possible issue of overfitting. As the Train and CV scores are significantly different from each other we can claim that there is an issue of overfitting. Now let's compare Test and CV scores.  0.95277 and 0.9259 are close to each other (less than the threshhold 0.05), so we can claim that the CV and Test sets are coming from the same distribution, so we are confident that the we have well tuned values for our hyperparams. Ultimatelly based on the abovementioned facts I claim that this model is not good enough because there is a possible issue of overfitting according to my threshold, so further works(for example regularization, collect more data ) to overcome this issue. So I do not accept this model."
   ]
  },
  {
   "cell_type": "markdown",
   "id": "bc1265e5",
   "metadata": {},
   "source": [
    "#### Based on my two discussion about model1(Adaboostclassifeir) and model2(gradientboostclassifier) I prefer the model1, because it performs better(has no issue with underfit, overfitting and we are confident that parameters are tuned well), but in case of model2 there is some issue with overfitting that makes me afraid to choose that model. So Model1(Adaboostclassifier) is the winner!!!"
   ]
  },
  {
   "cell_type": "markdown",
   "id": "0e1eac90",
   "metadata": {},
   "source": [
    "# Problem 2"
   ]
  },
  {
   "cell_type": "markdown",
   "id": "e62bff68",
   "metadata": {},
   "source": [
    "## My ID - A09190061, last two digits - 61"
   ]
  },
  {
   "cell_type": "code",
   "execution_count": 50,
   "id": "89a66aa2",
   "metadata": {},
   "outputs": [],
   "source": [
    "# Reading the data\n",
    "data = make_friedman1(n_samples=2000, n_features=10, noise=1, random_state=61)\n",
    "columns = ['Feature ' + str(i) for i in range(1, 11)]\n",
    "X = pd.DataFrame(data[0])\n",
    "X.columns = columns\n",
    "y = data[1]\n",
    "\n",
    "# Splitting to train and test sets\n",
    "X_train, X_test, y_train, y_test = train_test_split(X, y, test_size=0.2, random_state=90)"
   ]
  },
  {
   "cell_type": "code",
   "execution_count": 51,
   "id": "bd3513b7",
   "metadata": {},
   "outputs": [
    {
     "data": {
      "text/html": [
       "<div>\n",
       "<style scoped>\n",
       "    .dataframe tbody tr th:only-of-type {\n",
       "        vertical-align: middle;\n",
       "    }\n",
       "\n",
       "    .dataframe tbody tr th {\n",
       "        vertical-align: top;\n",
       "    }\n",
       "\n",
       "    .dataframe thead th {\n",
       "        text-align: right;\n",
       "    }\n",
       "</style>\n",
       "<table border=\"1\" class=\"dataframe\">\n",
       "  <thead>\n",
       "    <tr style=\"text-align: right;\">\n",
       "      <th></th>\n",
       "      <th>Feature 1</th>\n",
       "      <th>Feature 2</th>\n",
       "      <th>Feature 3</th>\n",
       "      <th>Feature 4</th>\n",
       "      <th>Feature 5</th>\n",
       "      <th>Feature 6</th>\n",
       "      <th>Feature 7</th>\n",
       "      <th>Feature 8</th>\n",
       "      <th>Feature 9</th>\n",
       "      <th>Feature 10</th>\n",
       "    </tr>\n",
       "  </thead>\n",
       "  <tbody>\n",
       "    <tr>\n",
       "      <th>0</th>\n",
       "      <td>0.824469</td>\n",
       "      <td>0.181350</td>\n",
       "      <td>0.877327</td>\n",
       "      <td>0.499551</td>\n",
       "      <td>0.964926</td>\n",
       "      <td>0.003546</td>\n",
       "      <td>0.923644</td>\n",
       "      <td>0.629444</td>\n",
       "      <td>0.304298</td>\n",
       "      <td>0.340925</td>\n",
       "    </tr>\n",
       "    <tr>\n",
       "      <th>1</th>\n",
       "      <td>0.140735</td>\n",
       "      <td>0.487002</td>\n",
       "      <td>0.881047</td>\n",
       "      <td>0.452995</td>\n",
       "      <td>0.474998</td>\n",
       "      <td>0.882341</td>\n",
       "      <td>0.667464</td>\n",
       "      <td>0.081829</td>\n",
       "      <td>0.027823</td>\n",
       "      <td>0.720033</td>\n",
       "    </tr>\n",
       "    <tr>\n",
       "      <th>2</th>\n",
       "      <td>0.711822</td>\n",
       "      <td>0.039873</td>\n",
       "      <td>0.466009</td>\n",
       "      <td>0.367395</td>\n",
       "      <td>0.599223</td>\n",
       "      <td>0.724687</td>\n",
       "      <td>0.191987</td>\n",
       "      <td>0.528219</td>\n",
       "      <td>0.291443</td>\n",
       "      <td>0.139491</td>\n",
       "    </tr>\n",
       "    <tr>\n",
       "      <th>3</th>\n",
       "      <td>0.955981</td>\n",
       "      <td>0.605044</td>\n",
       "      <td>0.910282</td>\n",
       "      <td>0.457832</td>\n",
       "      <td>0.043483</td>\n",
       "      <td>0.126563</td>\n",
       "      <td>0.334569</td>\n",
       "      <td>0.447856</td>\n",
       "      <td>0.425973</td>\n",
       "      <td>0.548966</td>\n",
       "    </tr>\n",
       "    <tr>\n",
       "      <th>4</th>\n",
       "      <td>0.769691</td>\n",
       "      <td>0.922199</td>\n",
       "      <td>0.749690</td>\n",
       "      <td>0.292347</td>\n",
       "      <td>0.193074</td>\n",
       "      <td>0.260583</td>\n",
       "      <td>0.726084</td>\n",
       "      <td>0.454452</td>\n",
       "      <td>0.171107</td>\n",
       "      <td>0.642443</td>\n",
       "    </tr>\n",
       "    <tr>\n",
       "      <th>...</th>\n",
       "      <td>...</td>\n",
       "      <td>...</td>\n",
       "      <td>...</td>\n",
       "      <td>...</td>\n",
       "      <td>...</td>\n",
       "      <td>...</td>\n",
       "      <td>...</td>\n",
       "      <td>...</td>\n",
       "      <td>...</td>\n",
       "      <td>...</td>\n",
       "    </tr>\n",
       "    <tr>\n",
       "      <th>1995</th>\n",
       "      <td>0.800617</td>\n",
       "      <td>0.075045</td>\n",
       "      <td>0.409141</td>\n",
       "      <td>0.398778</td>\n",
       "      <td>0.563133</td>\n",
       "      <td>0.963809</td>\n",
       "      <td>0.322028</td>\n",
       "      <td>0.954875</td>\n",
       "      <td>0.095632</td>\n",
       "      <td>0.368797</td>\n",
       "    </tr>\n",
       "    <tr>\n",
       "      <th>1996</th>\n",
       "      <td>0.258222</td>\n",
       "      <td>0.314044</td>\n",
       "      <td>0.262170</td>\n",
       "      <td>0.036709</td>\n",
       "      <td>0.194434</td>\n",
       "      <td>0.902738</td>\n",
       "      <td>0.937243</td>\n",
       "      <td>0.400341</td>\n",
       "      <td>0.067509</td>\n",
       "      <td>0.024034</td>\n",
       "    </tr>\n",
       "    <tr>\n",
       "      <th>1997</th>\n",
       "      <td>0.831863</td>\n",
       "      <td>0.905300</td>\n",
       "      <td>0.939497</td>\n",
       "      <td>0.356512</td>\n",
       "      <td>0.369527</td>\n",
       "      <td>0.788484</td>\n",
       "      <td>0.260343</td>\n",
       "      <td>0.467541</td>\n",
       "      <td>0.586687</td>\n",
       "      <td>0.427316</td>\n",
       "    </tr>\n",
       "    <tr>\n",
       "      <th>1998</th>\n",
       "      <td>0.536900</td>\n",
       "      <td>0.476609</td>\n",
       "      <td>0.290489</td>\n",
       "      <td>0.555933</td>\n",
       "      <td>0.955677</td>\n",
       "      <td>0.368670</td>\n",
       "      <td>0.285442</td>\n",
       "      <td>0.072169</td>\n",
       "      <td>0.840359</td>\n",
       "      <td>0.506708</td>\n",
       "    </tr>\n",
       "    <tr>\n",
       "      <th>1999</th>\n",
       "      <td>0.431781</td>\n",
       "      <td>0.385187</td>\n",
       "      <td>0.800209</td>\n",
       "      <td>0.189079</td>\n",
       "      <td>0.239313</td>\n",
       "      <td>0.027727</td>\n",
       "      <td>0.861399</td>\n",
       "      <td>0.703168</td>\n",
       "      <td>0.628970</td>\n",
       "      <td>0.710375</td>\n",
       "    </tr>\n",
       "  </tbody>\n",
       "</table>\n",
       "<p>2000 rows × 10 columns</p>\n",
       "</div>"
      ],
      "text/plain": [
       "      Feature 1  Feature 2  Feature 3  Feature 4  Feature 5  Feature 6  \\\n",
       "0      0.824469   0.181350   0.877327   0.499551   0.964926   0.003546   \n",
       "1      0.140735   0.487002   0.881047   0.452995   0.474998   0.882341   \n",
       "2      0.711822   0.039873   0.466009   0.367395   0.599223   0.724687   \n",
       "3      0.955981   0.605044   0.910282   0.457832   0.043483   0.126563   \n",
       "4      0.769691   0.922199   0.749690   0.292347   0.193074   0.260583   \n",
       "...         ...        ...        ...        ...        ...        ...   \n",
       "1995   0.800617   0.075045   0.409141   0.398778   0.563133   0.963809   \n",
       "1996   0.258222   0.314044   0.262170   0.036709   0.194434   0.902738   \n",
       "1997   0.831863   0.905300   0.939497   0.356512   0.369527   0.788484   \n",
       "1998   0.536900   0.476609   0.290489   0.555933   0.955677   0.368670   \n",
       "1999   0.431781   0.385187   0.800209   0.189079   0.239313   0.027727   \n",
       "\n",
       "      Feature 7  Feature 8  Feature 9  Feature 10  \n",
       "0      0.923644   0.629444   0.304298    0.340925  \n",
       "1      0.667464   0.081829   0.027823    0.720033  \n",
       "2      0.191987   0.528219   0.291443    0.139491  \n",
       "3      0.334569   0.447856   0.425973    0.548966  \n",
       "4      0.726084   0.454452   0.171107    0.642443  \n",
       "...         ...        ...        ...         ...  \n",
       "1995   0.322028   0.954875   0.095632    0.368797  \n",
       "1996   0.937243   0.400341   0.067509    0.024034  \n",
       "1997   0.260343   0.467541   0.586687    0.427316  \n",
       "1998   0.285442   0.072169   0.840359    0.506708  \n",
       "1999   0.861399   0.703168   0.628970    0.710375  \n",
       "\n",
       "[2000 rows x 10 columns]"
      ]
     },
     "execution_count": 51,
     "metadata": {},
     "output_type": "execute_result"
    }
   ],
   "source": [
    "# Labeled features\n",
    "X"
   ]
  },
  {
   "cell_type": "code",
   "execution_count": 52,
   "id": "0122c3fe",
   "metadata": {},
   "outputs": [],
   "source": [
    "# min-max scaler for the pipeline\n",
    "scaler = MinMaxScaler()\n",
    "\n",
    "# Pipeline for Gradient boosting\n",
    "model_gb = make_pipeline(scaler, GradientBoostingRegressor())"
   ]
  },
  {
   "cell_type": "code",
   "execution_count": 58,
   "id": "18966ef1",
   "metadata": {},
   "outputs": [
    {
     "data": {
      "text/plain": [
       "HalvingGridSearchCV(cv=3,\n",
       "                    estimator=Pipeline(steps=[('minmaxscaler', MinMaxScaler()),\n",
       "                                              ('gradientboostingregressor',\n",
       "                                               GradientBoostingRegressor())]),\n",
       "                    n_jobs=-1,\n",
       "                    param_grid={'gradientboostingregressor__learning_rate': [0.001,\n",
       "                                                                             0.01,\n",
       "                                                                             0.1,\n",
       "                                                                             1,\n",
       "                                                                             2],\n",
       "                                'gradientboostingregressor__min_samples_split': array([2, 3]),\n",
       "                                'gradientboostingregressor__n_estimators': array([ 50, 100, 150, 200, 250, 300])},\n",
       "                    refit=<function _refit_callable at 0x000001CFCFC31040>)"
      ]
     },
     "execution_count": 58,
     "metadata": {},
     "output_type": "execute_result"
    }
   ],
   "source": [
    "# Hyperparameter tuning for greadient boosting\n",
    "n_estimators_grid = np.arange(50, 350, 50)\n",
    "min_samples_split_grid = np.arange(2, 4)\n",
    "learning_rate_grid = [0.001, 0.01, 0.1, 1, 2]\n",
    "\n",
    "optimal_model_gb = HalvingGridSearchCV(model_gb, \n",
    "    param_grid={\n",
    "        \"gradientboostingregressor__n_estimators\": n_estimators_grid, \n",
    "        \"gradientboostingregressor__min_samples_split\": min_samples_split_grid, \n",
    "        \"gradientboostingregressor__learning_rate\": learning_rate_grid\n",
    "    }, cv = 3,  n_jobs=-1)\n",
    "optimal_model_gb.fit(X_train, y_train)"
   ]
  },
  {
   "cell_type": "code",
   "execution_count": 59,
   "id": "4016a323",
   "metadata": {},
   "outputs": [
    {
     "name": "stdout",
     "output_type": "stream",
     "text": [
      "Best parameters: {'gradientboostingregressor__learning_rate': 0.1, 'gradientboostingregressor__min_samples_split': 2, 'gradientboostingregressor__n_estimators': 300}\n",
      "Best score (R2): 0.9086344279980335\n"
     ]
    }
   ],
   "source": [
    "# Obtain the optimal model's best parameters and score\n",
    "best_params = optimal_model_gb.best_params_\n",
    "best_score = optimal_model_gb.best_score_\n",
    "print(f\"Best parameters: {best_params}\")\n",
    "print(f\"Best score (R2): {best_score}\")\n"
   ]
  },
  {
   "cell_type": "code",
   "execution_count": null,
   "id": "28c0549b",
   "metadata": {},
   "outputs": [],
   "source": [
    "### So we found out that the optimal learning rate is 0.1, min_samples_split is 2, nestimators is 300."
   ]
  },
  {
   "cell_type": "code",
   "execution_count": 61,
   "id": "589c8766",
   "metadata": {},
   "outputs": [
    {
     "name": "stdout",
     "output_type": "stream",
     "text": [
      "Top 5 important features:\n",
      "Feature 4 - Importance: 0.32132915622927644\n",
      "Feature 1 - Importance: 0.23835610754448985\n",
      "Feature 2 - Importance: 0.23749743273388346\n",
      "Feature 3 - Importance: 0.10215900253355434\n",
      "Feature 5 - Importance: 0.08712713666186808\n"
     ]
    }
   ],
   "source": [
    "# Find the 5 most important features\n",
    "gb_clf = optimal_model_gb.best_estimator_.named_steps['gradientboostingregressor']\n",
    "importances = gb_clf.feature_importances_\n",
    "indices = np.argsort(importances)[-5:]\n",
    "\n",
    "print(\"Top 5 important features:\")\n",
    "for i in indices[::-1]:\n",
    "    print(f\"{X.columns[i]} - Importance: {importances[i]}\")\n"
   ]
  },
  {
   "cell_type": "markdown",
   "id": "8bfcbe02",
   "metadata": {},
   "source": [
    "#### Top 5 important features:\n",
    "#### Feature 4 - Importance: 0.32132915622927644\n",
    "#### Feature 1 - Importance: 0.23835610754448985\n",
    "#### Feature 2 - Importance: 0.23749743273388346\n",
    "#### Feature 3 - Importance: 0.10215900253355434\n",
    "#### Feature 5 - Importance: 0.08712713666186808        "
   ]
  },
  {
   "cell_type": "markdown",
   "id": "27452d94",
   "metadata": {},
   "source": [
    "#### Feature 4 has the highest importance."
   ]
  },
  {
   "cell_type": "code",
   "execution_count": 71,
   "id": "5cbb69b6",
   "metadata": {},
   "outputs": [
    {
     "name": "stdout",
     "output_type": "stream",
     "text": [
      "Train score: 0.977539757680062\n",
      "Test score: 0.9247100255860646\n",
      "CV score: 0.9086344279980335\n"
     ]
    }
   ],
   "source": [
    "# Calculate R-squared scores for training and test sets\n",
    "train_score = optimal_model_gb.score(X_train, y_train)\n",
    "test_score = optimal_model_gb.score(X_test, y_test)\n",
    "\n",
    "# Print the R-squared scores\n",
    "print(f\"Train score: {train_score}\")\n",
    "print(f\"Test score: {test_score}\")\n",
    "print(f\"CV score: {best_score}\")"
   ]
  },
  {
   "cell_type": "markdown",
   "id": "d7f5fa0c",
   "metadata": {},
   "source": [
    "#### Modelevaluation1: I initially claim that if my model's train score is greater than 0.85 then I will say there is no problem of overfitting. In this case the train score is equal to 0.9775 which is greater than my threshhold of underfitting then I claim that here this model has no issue with underfitting. Now let's move on and compare Train and CV scores. 0.977 and 0.908 are significantly far from each other, because I claim that if their difference less than 0.05 then the difference is significant, so eventually there is overfitting issue. As the Train and CV scores are not close to each other we can claim that there is an issue of overfitting. Now let's compare Test and CV scores.  0.924 and 0.908 are very close to each other (less than the threshhold 0.05), so we can claim that the CV and Test sets are coming from the same distribution, so we are confident that the we have well tuned values for our hyperparams. Ultimatelly based on the abovementioned facts I claim that this model is not acceptable, because of the issue of overfitting."
   ]
  },
  {
   "cell_type": "markdown",
   "id": "a3300b15",
   "metadata": {},
   "source": [
    "## Model2"
   ]
  },
  {
   "cell_type": "code",
   "execution_count": 72,
   "id": "37a6e10b",
   "metadata": {},
   "outputs": [
    {
     "data": {
      "text/plain": [
       "HalvingGridSearchCV(cv=3,\n",
       "                    estimator=Pipeline(steps=[('minmaxscaler', MinMaxScaler()),\n",
       "                                              ('polynomialfeatures',\n",
       "                                               PolynomialFeatures()),\n",
       "                                              ('gradientboostingregressor',\n",
       "                                               GradientBoostingRegressor())]),\n",
       "                    n_jobs=-1,\n",
       "                    param_grid={'gradientboostingregressor__learning_rate': [0.001,\n",
       "                                                                             0.01,\n",
       "                                                                             0.1,\n",
       "                                                                             1,\n",
       "                                                                             2],\n",
       "                                'gradientboostingregressor__min_samples_split': array([2, 3]),\n",
       "                                'gradientboostingregressor__n_estimators': array([ 50, 100, 150, 200, 250, 300]),\n",
       "                                'polynomialfeatures__degree': [2, 3]},\n",
       "                    refit=<function _refit_callable at 0x000001CFCFC31040>)"
      ]
     },
     "execution_count": 72,
     "metadata": {},
     "output_type": "execute_result"
    }
   ],
   "source": [
    "# Add PolynomialFeatures to the pipeline\n",
    "model_gb_poly = make_pipeline(scaler, PolynomialFeatures(), GradientBoostingRegressor())\n",
    "\n",
    "# Hyperparameter tuning for Gradient Boosting Regressor with PolynomialFeatures\n",
    "optimal_model_gb_poly = HalvingGridSearchCV(\n",
    "    model_gb_poly, \n",
    "    param_grid={\n",
    "        \"polynomialfeatures__degree\": [2, 3],\n",
    "        \"gradientboostingregressor__n_estimators\": n_estimators_grid,\n",
    "        \"gradientboostingregressor__min_samples_split\": min_samples_split_grid,\n",
    "        \"gradientboostingregressor__learning_rate\": learning_rate_grid\n",
    "    }, \n",
    "    cv=3,\n",
    "    n_jobs=-1\n",
    ")\n",
    "\n",
    "optimal_model_gb_poly.fit(X_train, y_train)"
   ]
  },
  {
   "cell_type": "code",
   "execution_count": 66,
   "id": "4588493b",
   "metadata": {},
   "outputs": [
    {
     "name": "stdout",
     "output_type": "stream",
     "text": [
      "Best parameters: {'gradientboostingregressor__learning_rate': 0.1, 'gradientboostingregressor__min_samples_split': 2, 'gradientboostingregressor__n_estimators': 150, 'polynomialfeatures__degree': 3}\n",
      "Best score (R2): 0.9226695980572658\n"
     ]
    }
   ],
   "source": [
    "best_params_poly = optimal_model_gb_poly.best_params_\n",
    "best_score_poly = optimal_model_gb_poly.best_score_\n",
    "print(f\"Best parameters: {best_params_poly}\")\n",
    "print(f\"Best score (R2): {best_score_poly}\")"
   ]
  },
  {
   "cell_type": "code",
   "execution_count": 77,
   "id": "66487cc3",
   "metadata": {},
   "outputs": [
    {
     "name": "stdout",
     "output_type": "stream",
     "text": [
      "                Feature  Importance\n",
      "12  Feature 1 Feature 2    0.327015\n",
      "39  Feature 4 Feature 5    0.159019\n",
      "14  Feature 1 Feature 4    0.139231\n",
      "4             Feature 4    0.072732\n",
      "23  Feature 2 Feature 4    0.068726\n"
     ]
    }
   ],
   "source": [
    "poly_feature_names = optimal_model_gb_poly.best_estimator_.steps[1][1].get_feature_names(X.columns)\n",
    "\n",
    "# Get feature importances\n",
    "importances = optimal_model_gb_poly.best_estimator_.named_steps['gradientboostingregressor'].feature_importances_\n",
    "\n",
    "# Create a dataframe with feature names and their importances\n",
    "feature_importances = pd.DataFrame({'Feature': poly_feature_names, 'Importance': importances})\n",
    "\n",
    "# Sort the features by their importance in descending order\n",
    "top_5_features = feature_importances.sort_values(by='Importance', ascending=False).head()\n",
    "\n",
    "# Print the top 5 features and their importances\n",
    "print(top_5_features)"
   ]
  },
  {
   "cell_type": "markdown",
   "id": "c4aabfb2",
   "metadata": {},
   "source": [
    "#### Here are they, the first is the artadryal of feature1 and feature2, the second one is the artadryal of Feature 4 and Feature 5, then the artadryal of Feature 1 and Feature 4, then only feature4, and finally the artadryal of Feature 2 and Feature 4"
   ]
  },
  {
   "cell_type": "code",
   "execution_count": 70,
   "id": "9419af87",
   "metadata": {},
   "outputs": [
    {
     "name": "stdout",
     "output_type": "stream",
     "text": [
      "Train score: 0.976602087337717\n",
      "Test score: 0.938211263912042\n",
      "CV score: 0.9086344279980335\n"
     ]
    }
   ],
   "source": [
    "# Calculate R-squared scores for training and test sets\n",
    "train_score = optimal_model_gb_poly.score(X_train, y_train)\n",
    "test_score = optimal_model_gb_poly.score(X_test, y_test)\n",
    "\n",
    "# Print the R-squared scores\n",
    "print(f\"Train score: {train_score}\")\n",
    "print(f\"Test score: {test_score}\")\n",
    "print(f\"CV score: {best_score}\")"
   ]
  },
  {
   "cell_type": "markdown",
   "id": "2737bb63",
   "metadata": {},
   "source": [
    "#### Modelevaluation2: I initially claim that if my model's train score is greater than 0.85 then I will say there is no problem of overfitting. In this case the train score is equal to 0.976 which is greater than my threshhold of underfitting then I claim that here this model has no issue with underfitting. Now let's move on and compare Train and CV scores. 0.976 and 0.9086 are significantly far from each other, because I claim that if their difference less than 0.05 then the difference is significant, so eventually there is overfitting issue. As the Train and CV scores are not close to each other we can claim that there is an issue of overfitting. Now let's compare Test and CV scores.  0.938 and 0.908 are very close to each other (less than the threshhold 0.05), so we can claim that the CV and Test sets are coming from the same distribution, so we are confident that the we have well tuned values for our hyperparams. Ultimatelly based on the abovementioned facts I claim that this model is not acceptable, because of the issue of overfitting."
   ]
  },
  {
   "cell_type": "markdown",
   "id": "2745f00c",
   "metadata": {},
   "source": [
    "#### Overall both models are may have issue of overfitting, and further work should be done to improve them, if one asked which one should I chose, I would say none because both have the same issue. We should make further improvements and then again compare them. But after all second model's test score is slightly higher, which may seem that it is better."
   ]
  }
 ],
 "metadata": {
  "kernelspec": {
   "display_name": "Python 3 (ipykernel)",
   "language": "python",
   "name": "python3"
  },
  "language_info": {
   "codemirror_mode": {
    "name": "ipython",
    "version": 3
   },
   "file_extension": ".py",
   "mimetype": "text/x-python",
   "name": "python",
   "nbconvert_exporter": "python",
   "pygments_lexer": "ipython3",
   "version": "3.10.9"
  }
 },
 "nbformat": 4,
 "nbformat_minor": 5
}
